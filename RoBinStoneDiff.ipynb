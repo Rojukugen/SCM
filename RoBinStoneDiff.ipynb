{
 "cells": [
  {
   "cell_type": "markdown",
   "metadata": {},
   "source": [
    "## 12. Дифференциальные уравнения. Робин Гуд\n",
    "Робин Гуд бросает камень с привязанным к нему письмом\n",
    "через бойницу крепостной стены в открытое окно, стоящего за ней замка:\n",
    "``` \n",
    "                    стена                    замок\n",
    "                    _____ \n",
    "                   [     ]                  ______ \n",
    "                   [     ]                 [      ]\n",
    "                   [_____]                 [      ]\n",
    "                   бойница                 [      ]\n",
    "                    _____                  [      ]\n",
    "                   [     ]                 [      ]\n",
    "                   [     ]                   окно ]\n",
    "                   [     ]                 [      ]\n",
    "                   [     ]                 [      ]\n",
    ".                  [     ]                 [      ]\n",
    " \\0 _              [     ]                 [      ]\n",
    "  I                [     ]                 [      ]\n",
    " / \\               [     ]                 [      ]\n",
    "~~~~~~~~~~~~~~~~~~~~~~~~~~~~~~~~~~~~~~~~~~~~~~~~~~~~\n",
    "```\n",
    "\n",
    "Смоделируйте полет камня с помощью функции `integrate.ode`.\n",
    "Рассмотрите следующие события: \n",
    "   1. камень упал на землю, не долетев до окна (либо до, либо после стены);\n",
    "   2. камень не попал в бойницу (ударился о стену);\n",
    "   3. камень застрял в бойнице (стукнулся о <<пол>> или <<потолок>> бойницы и упал внутри нее); \n",
    "   4. камень стукнулся о  стену замка (не попав в окно);\n",
    "   5. камень попал в окно \n",
    "      (для простоты считаем, что и крепостная стена, и замок очень высокие\n",
    "      и сверху через них камень перебросить нельзя).\n",
    "При наступлении каждого из этих событий вычисления прекращаются. \n",
    "\n",
    "Написать функцию, на вход которой подаются:\n",
    "  * параметры:\n",
    "    масса камня,\n",
    "    расстояние от Робин Гуда до стены,\n",
    "    толщину стены (равную длине бойницы),\n",
    "    расстояние от земли до бойницы и высоту бойницы,\n",
    "    расстояние от стены до замка,\n",
    "    расстояние от земли до окна и высоту окна,\n",
    "\n",
    "  * начальные условия:\n",
    "    угол броска и начальную скорость камня.\n",
    "\n",
    "Программа должна отображать «вид сбоку» (многоугольники можно нарисовать с помощью функций\n",
    "`matplotlib.patches.Patch`) и траекторию полета."
   ]
  },
  {
   "cell_type": "markdown",
   "metadata": {},
   "source": [
    "# В самом коде уже указаны комментарии, особо расписывать нечего. Дифференциальная система представлена чуть ниже, я не думаю, что это стоит выносить в отдельную картинку, она самая обычная :) \n",
    "Была использована функция solve_ivp для решения системы, код переписал, чтобы не было никаких вопросов (я думаю, вы понимаете, о чем я говорю)"
   ]
  },
  {
   "cell_type": "code",
   "execution_count": 10,
   "metadata": {},
   "outputs": [
    {
     "name": "stdout",
     "output_type": "stream",
     "text": [
      "(8, 12) (9, 12) (8, 15) (9, 15)\n",
      "(12, 8) (13, 8) (12, 10) (13, 10)\n",
      "12\n",
      "14.618585236136843\n",
      "13\n",
      "14.618585236136843\n",
      "не долетел\n"
     ]
    },
    {
     "data": {
      "image/png": "[encoded data removed]",
      "text/plain": [
       "<Figure size 432x288 with 1 Axes>"
      ]
     },
     "metadata": {},
     "output_type": "display_data"
    }
   ],
   "source": [
    "from matplotlib import pyplot as plt\n",
    "%matplotlib inline\n",
    "import numpy as np\n",
    "from math import sin, cos, pi, sqrt;\n",
    "import matplotlib.patches as patches\n",
    "\n",
    "import math\n",
    "from scipy import integrate\n",
    "\n",
    "\n",
    "\n",
    "\n",
    "\n",
    "def robin_diff(v0, angle, x0, y0, wall_dist, wall_width, wall_height , wall_window_height, wall_castle_dist, \n",
    "               castle_height , castle_width, castle_window_height):\n",
    "    #дифференциальные уравнения полета камня \n",
    "    def f(t, r):\n",
    "        v0x = v0 * math.cos(alpha)\n",
    "        v0y = v0 * math.sin(alpha)\n",
    "        vx = v0 * math.cos(alpha)\n",
    "        vy = v0 * math.sin(alpha) - g * t \n",
    "\n",
    "        return vx, vy\n",
    "    g = 9.8\n",
    "    alpha = math.pi * angle / 180\n",
    "    v0x = v0 * math.cos(alpha)\n",
    "    v0y = v0 * math.sin(alpha) \n",
    "    sol = integrate.solve_ivp(f, (0,10), (x0, y0), t_eval = np.linspace(0, 10, 5000))\n",
    "\n",
    "    x, y = sol.y\n",
    "    x_stop = x\n",
    "    y_stop = y\n",
    "    #находим точки стены и замка(сначала нижние левые, затем нижние правые, затем также верхние.)\n",
    "    wall1_p1 = (wall_dist, wall_height)\n",
    "    wall1_p2 = (wall_dist + wall_width, wall_height)\n",
    "    wall2_p1 = (wall_dist, wall_height + wall_window_height)\n",
    "    wall2_p2 = (wall_dist + wall_width, wall_height + wall_window_height)\n",
    "    #проверяем правильно ли обнаружены точки\n",
    "    print(wall1_p1, wall1_p2, wall2_p1, wall2_p2)\n",
    "    #Затем находим также для замка\n",
    "    castle1_p1 = (wall_dist + wall_width + wall_castle_dist, castle_height)\n",
    "    castle1_p2 = (wall_dist + wall_width + wall_castle_dist + castle_width, castle_height)\n",
    "    castle2_p1 = (wall_dist + wall_width + wall_castle_dist, castle_height + castle_window_height)\n",
    "    castle2_p2 = (wall_dist + wall_width + wall_castle_dist + castle_width, castle_height + castle_window_height)\n",
    "    #проверяем правильно ли обнаружены точки\n",
    "    print(castle1_p1, castle1_p2, castle2_p1, castle2_p2)\n",
    "\n",
    "    # Формулы\n",
    "    \n",
    "    #находим значение y на расстоянии входа в бойницу\n",
    "    def y_in_wall(wall_dist):\n",
    "        i = 0\n",
    "        for j in x:\n",
    "            if max(x) < wall_dist:\n",
    "                maximum = np.max(x)\n",
    "                index_of_maximum = np.where(x == maximum)\n",
    "                d = {'value': y[index_of_maximum], 'index': index_of_maximum}\n",
    "                return d\n",
    "            elif x[i] == wall_dist:\n",
    "                d = {'value': y[i], 'index': i}\n",
    "                return d\n",
    "            elif x[i] < wall_dist and x[i+1] > wall_dist:\n",
    "                d = {'value': y[i], 'index': i}\n",
    "                return d\n",
    "            i += 1\n",
    "    #находим значение x на расстоянии входа в бойницу(не понадобилось)\n",
    "    def x_in_wall(wall_dist):\n",
    "        i = 0\n",
    "        for j in x:\n",
    "            if max(x) < wall_dist:\n",
    "                maximum = np.max(x)\n",
    "                index_of_maximum = np.where(x == maximum)\n",
    "                d = {'value': max(x), 'index': index_of_maximum}\n",
    "            elif x[i] == wall_dist:\n",
    "                d = {'value': x[i], 'index': i}\n",
    "                return d\n",
    "            elif x[i] < wall_dist and x[i+1] > wall_dist:\n",
    "                d = {'value': x[i], 'index': i}\n",
    "                return d\n",
    "            i += 1\n",
    "    #находим значение y на расстоянии входа в замок\n",
    "    def y_in_castle(wall_dist, wall_width, wall_castle_dist):\n",
    "        i = 0\n",
    "        for j in x:\n",
    "            if max(x) < wall_dist + wall_width + wall_castle_dist:\n",
    "                maximum = np.max(x)\n",
    "                index_of_maximum = np.where(x == maximum)\n",
    "                d = {'value': y[index_of_maximum], 'index': index_of_maximum}\n",
    "                return d\n",
    "            elif x[i] == wall_dist + wall_width + wall_castle_dist:\n",
    "                d = {'value': y[i], 'index': i}\n",
    "                return d\n",
    "            elif x[i] < wall_dist + wall_width + wall_castle_dist and x[i+1] > wall_dist + wall_width + wall_castle_dist:\n",
    "                d = {'value': y[i], 'index': i}\n",
    "                return d\n",
    "            i += 1\n",
    "    #находим значение x на расстоянии входа в замок(не понадобилось)\n",
    "    def x_in_castle(wall_dist, wall_width, wall_castle_dist):\n",
    "        i = 0\n",
    "        print(wall_dist + wall_width + wall_castle_dist)\n",
    "        print(max(x))\n",
    "        for j in x:\n",
    "            if max(x) < wall_dist + wall_width + wall_castle_dist:\n",
    "                maximum = np.max(x)\n",
    "                index_of_maximum = np.where(x == maximum)\n",
    "                d = {'value': max(x), 'index': index_of_maximum}\n",
    "                return d\n",
    "            elif x[i] == wall_dist + wall_width + wall_castle_dist:\n",
    "                d = {'value': x[i], 'index': i}\n",
    "                return d\n",
    "            elif x[i] < wall_dist + wall_width + wall_castle_dist and x[i+1] > wall_dist + wall_width + wall_castle_dist:\n",
    "                d = {'value': x[i], 'index': i}\n",
    "                return d\n",
    "\n",
    "            i += 1\n",
    "     # отрисовка        \n",
    "    \n",
    "    #отрисовка стены и замка\n",
    "    wall_bottom = patches.Rectangle((wall_dist, 0),\n",
    "                                wall_width, wall_height,\n",
    "                                edgecolor='black', facecolor='black')\n",
    "    wall_top = patches.Rectangle((wall_dist, wall_height+wall_window_height),\n",
    "                             wall_width, wall_height,\n",
    "                             linewidth=3, edgecolor='black', facecolor='black')\n",
    "    castle_bottom = patches.Rectangle((wall_dist+wall_width+wall_castle_dist, 0),\n",
    "                                  castle_width, castle_height,\n",
    "                                  edgecolor='black', facecolor='black')\n",
    "    castle_top = patches.Rectangle((wall_dist+wall_width+wall_castle_dist, castle_height+castle_window_height),\n",
    "                               castle_width, wall_height,\n",
    "                               edgecolor='black', facecolor='black')\n",
    "    # fig = plt.figure(figsize=(16, 12))\n",
    "\n",
    "    _, ax = plt.subplots()\n",
    "    ax.add_patch(wall_bottom)\n",
    "    ax.add_patch(wall_top)\n",
    "    ax.add_patch(castle_bottom)\n",
    "    ax.add_patch(castle_top)\n",
    "    #флажок попадания\n",
    "\n",
    "    # находим значения по формулам \n",
    "    \n",
    "    x_in1 = x_in_wall(wall_dist)\n",
    "    y_in1 = y_in_wall(wall_dist)\n",
    "    x_in2 = x_in_castle(wall_dist, wall_width, wall_castle_dist)\n",
    "    y_in2 = y_in_castle(wall_dist, wall_width, wall_castle_dist)\n",
    "    x_out1 = x_in_wall(wall_dist + wall_width)\n",
    "    y_out1 = y_in_wall(wall_dist + wall_width)\n",
    "    x_out2 = x_in_castle(wall_dist, wall_width, wall_castle_dist + castle_width)\n",
    "    y_out2 = y_in_castle(wall_dist, wall_width, wall_castle_dist + castle_width)\n",
    "    \n",
    "    #если при входе в бойницу y находится на земле то не долетел\n",
    "    \n",
    "    if y_in1['value'] <= 0:\n",
    "        print(\"не долетел\")\n",
    "\n",
    "    else:\n",
    "        #если при входе в бойницу y находится над нижней точкой бойницы и под верхней\n",
    "        if y_in1['value'] > wall_height and y_in1['value'] < wall_height + wall_window_height:\n",
    "            print(\"попали в бойницу\")\n",
    "            #если на всей ширине бойницы y находится над нижней точкой бойницы и под верхней\n",
    "            if min(y[y_in1['index']:y_out1['index']]) > wall_height and max(y[y_in1['index']:y_out1['index']]) < wall_height + wall_window_height:\n",
    "                print(\"башню прошли\")\n",
    "                #если при входе в замок камень не на земле\n",
    "                if y_in2['value'] > 0:\n",
    "                    #если при входе в замок y находится над нижней точкой окна и под верхней\n",
    "                    if y_in2['value'] > castle_height and y_in2['value'] < castle_height + castle_window_height:\n",
    "                        print(\"попали в окно\")\n",
    "                    else:\n",
    "                        #если при входе в замок y находится над нижней точкой окна и под верхней(не выолняется)\n",
    "                        print(\"не попали в окно\")\n",
    "                        i = y_in2['index']\n",
    "                        x_stop = x[0:i]\n",
    "                        y_stop = y[0:i]\n",
    "                else:\n",
    "                     #если при входе в замок камень на земле(не выолняется)\n",
    "                    print(\"не долетел до окна\")\n",
    "\n",
    "            else:\n",
    "                #если на всей ширине бойницы y находится над нижней точкой бойницы и под верхней(не выолняется)\n",
    "                print(\"ударился об пол или потолок\")\n",
    "                i = y_in1['index']\n",
    "                x_stop = x[0:i]\n",
    "                y_stop = y[0:i]\n",
    "                sucess_wall = 0\n",
    "        else:\n",
    "            #если при входе в бойницу y находится над нижней точкой бойницы и под верхней(не выолняется)\n",
    "            print(\"не попали в бойницу\")\n",
    "            i = y_in1['index']\n",
    "            x_stop = x[0:i]\n",
    "            y_stop = y[0:i]\n",
    "            sucess_wall = 0\n",
    "            plt.plot(x_stop, y_stop)\n",
    "            plt.axis([0, 5 + wall_dist + wall_width + wall_castle_dist + castle_width, 0, 5 + max(castle_height + castle_window_height,wall_height + wall_window_height)]) \n",
    "            plt.grid()\n",
    "            return 0\n",
    "\n",
    "        \n",
    "\n",
    "    plt.plot(x_stop, y_stop)\n",
    "    plt.axis([0, 5 + wall_dist + wall_width + wall_castle_dist + castle_width, 0, 5 + max(castle_height + castle_window_height,wall_height + wall_window_height)]) \n",
    "    plt.grid()\n",
    "\n",
    "\n",
    "\n",
    "\n",
    "    plt.show()\n",
    "    \n",
    "#robin_diff( скорость, угол, точка броска Х, точка броска У, растт до стены, ширина стены, высота стены\n",
    "#, ВЫСОТА ОКНА СТЕНЫ, растт до замка, высота замка , ширина замка, высота окна замка )\n",
    "robin_diff(5, 73, 0, 2,8, 1, 12 , 3, 3, 8 , 1, 2 )\n"
   ]
  },
  {
   "cell_type": "code",
   "execution_count": 3,
   "metadata": {},
   "outputs": [
    {
     "name": "stdout",
     "output_type": "stream",
     "text": [
      "(8, 12) (9, 12) (8, 15) (9, 15)\n",
      "(12, 8) (13, 8) (12, 10) (13, 10)\n",
      "12\n",
      "25.02951440643699\n",
      "13\n",
      "25.02951440643699\n",
      "не попали в бойницу\n"
     ]
    },
    {
     "data": {
      "text/plain": [
       "0"
      ]
     },
     "execution_count": 3,
     "metadata": {},
     "output_type": "execute_result"
    },
    {
     "data": {
      "image/png": "[encoded data removed]",
      "text/plain": [
       "<Figure size 432x288 with 1 Axes>"
      ]
     },
     "metadata": {},
     "output_type": "display_data"
    }
   ],
   "source": [
    "robin_diff(16, 81, 0, 2,8, 1, 12 , 3, 3, 8 , 1, 2 )"
   ]
  },
  {
   "cell_type": "code",
   "execution_count": 4,
   "metadata": {},
   "outputs": [
    {
     "name": "stdout",
     "output_type": "stream",
     "text": [
      "(8, 12) (9, 12) (8, 15) (9, 15)\n",
      "(12, 8) (13, 8) (12, 10) (13, 10)\n",
      "12\n",
      "58.47434094454742\n",
      "13\n",
      "58.47434094454742\n",
      "не попали в бойницу\n"
     ]
    },
    {
     "data": {
      "text/plain": [
       "0"
      ]
     },
     "execution_count": 4,
     "metadata": {},
     "output_type": "execute_result"
    },
    {
     "data": {
      "image/png": "[encoded data removed]",
      "text/plain": [
       "<Figure size 432x288 with 1 Axes>"
      ]
     },
     "metadata": {},
     "output_type": "display_data"
    }
   ],
   "source": [
    "robin_diff(20, 73, 0, 2,8, 1, 12 , 3, 3, 8 , 1, 2 )"
   ]
  },
  {
   "cell_type": "code",
   "execution_count": 8,
   "metadata": {},
   "outputs": [
    {
     "name": "stdout",
     "output_type": "stream",
     "text": [
      "(8, 12) (9, 12) (8, 15) (9, 15)\n",
      "(12, 8) (13, 8) (12, 10) (13, 10)\n",
      "12\n",
      "57.338871927248185\n",
      "13\n",
      "57.338871927248185\n",
      "попали в бойницу\n",
      "башню прошли\n",
      "не попали в окно\n"
     ]
    },
    {
     "data": {
      "image/png": "[encoded data removed]",
      "text/plain": [
       "<Figure size 432x288 with 1 Axes>"
      ]
     },
     "metadata": {},
     "output_type": "display_data"
    }
   ],
   "source": [
    "robin_diff(16, 69, 0, 2,8, 1, 12 , 3, 3, 8 , 1, 2 )"
   ]
  },
  {
   "cell_type": "code",
   "execution_count": 6,
   "metadata": {},
   "outputs": [
    {
     "name": "stdout",
     "output_type": "stream",
     "text": [
      "(8, 12) (9, 12) (8, 15) (9, 15)\n",
      "(12, 8) (13, 8) (12, 10) (13, 10)\n",
      "12\n",
      "30.529439260247138\n",
      "13\n",
      "30.529439260247138\n",
      "не попали в бойницу\n"
     ]
    },
    {
     "data": {
      "text/plain": [
       "0"
      ]
     },
     "execution_count": 6,
     "metadata": {},
     "output_type": "execute_result"
    },
    {
     "data": {
      "image/png": "[encoded data removed]",
      "text/plain": [
       "<Figure size 432x288 with 1 Axes>"
      ]
     },
     "metadata": {},
     "output_type": "display_data"
    }
   ],
   "source": [
    "robin_diff(16, 79, 0, 2,8, 1, 12 , 3, 3, 8 , 1, 2 )"
   ]
  },
  {
   "cell_type": "code",
   "execution_count": 11,
   "metadata": {},
   "outputs": [
    {
     "name": "stdout",
     "output_type": "stream",
     "text": [
      "(8, 12) (9, 12) (8, 15) (9, 15)\n",
      "(12, 8) (13, 8) (12, 10) (13, 10)\n",
      "12\n",
      "46.7794727556379\n",
      "13\n",
      "46.7794727556379\n",
      "попали в бойницу\n",
      "башню прошли\n",
      "попали в окно\n"
     ]
    },
    {
     "data": {
      "image/png": "[encoded data removed]",
      "text/plain": [
       "<Figure size 432x288 with 1 Axes>"
      ]
     },
     "metadata": {},
     "output_type": "display_data"
    }
   ],
   "source": [
    "robin_diff(16, 73, 0, 2,8, 1, 12 , 3, 3, 8 , 1, 2 )"
   ]
  },
  {
   "cell_type": "code",
   "execution_count": null,
   "metadata": {},
   "outputs": [],
   "source": [
    "Ну вот и все :)"
   ]
  }
 ],
 "metadata": {
  "kernelspec": {
   "display_name": "Python 3",
   "language": "python",
   "name": "python3"
  },
  "language_info": {
   "codemirror_mode": {
    "name": "ipython",
    "version": 3
   },
   "file_extension": ".py",
   "mimetype": "text/x-python",
   "name": "python",
   "nbconvert_exporter": "python",
   "pygments_lexer": "ipython3",
   "version": "3.6.5"
  }
 },
 "nbformat": 4,
 "nbformat_minor": 2
}
