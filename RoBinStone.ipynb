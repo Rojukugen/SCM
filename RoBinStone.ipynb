{
 "cells": [
  {
   "cell_type": "markdown",
   "metadata": {},
   "source": [
    "Робин Гуд бросает камень с привязанным к нему письмом\n",
    "через бойницу крепостной стены в открытое окно, стоящего за ней замка:\n",
    "``` \n",
    "                    стена                    замок\n",
    "                    _____ \n",
    "                   [     ]                  ______ \n",
    "                   [     ]                 [      ]\n",
    "                   [_____]                 [      ]\n",
    "                   бойница                 [      ]\n",
    "                    _____                  [      ]\n",
    "                   [     ]                 [      ]\n",
    "                   [     ]                   окно ]\n",
    "                   [     ]                 [      ]\n",
    "                   [     ]                 [      ]\n",
    ".                  [     ]                 [      ]\n",
    " \\0 _              [     ]                 [      ]\n",
    "  I                [     ]                 [      ]\n",
    " / \\               [     ]                 [      ]\n",
    "~~~~~~~~~~~~~~~~~~~~~~~~~~~~~~~~~~~~~~~~~~~~~~~~~~~~\n",
    "```\n",
    "\n",
    "Смоделируйте полет и рассмотрите следующие события: \n",
    "   1. камень упал на землю, не долетев до окна (либо до, либо после стены);\n",
    "   2. камень не попал в бойницу (ударился о стену);\n",
    "   3. камень застрял в бойнице (стукнулся о <<пол>> или <<потолок>> бойницы и упал внутри нее); \n",
    "   4. камень стукнулся о  стену замка (не попав в окно);\n",
    "   5. камень попал в окно \n",
    "      (для простоты считаем, что и крепостная стена, и замок очень высокие\n",
    "      и сверху через них камень перебросить нельзя).\n",
    "При наступлении каждого из этих событий вычисления прекращаются. \n",
    "\n",
    "Написать функцию, на вход которой подаются:\n",
    "  * параметры:\n",
    "    масса камня,\n",
    "    расстояние от Робин Гуда до стены,\n",
    "    толщину стены (равную длине бойницы),\n",
    "    расстояние от земли до бойницы и высоту бойницы,\n",
    "    расстояние от стены до замка,\n",
    "    расстояние от земли до окна и высоту окна,\n",
    "\n",
    "  * начальные условия:\n",
    "    угол броска и начальную скорость камня.\n",
    "\n",
    "Программа должна отображать «вид сбоку»  и траекторию полета.\n"
   ]
  },
  {
   "cell_type": "code",
   "execution_count": 38,
   "metadata": {},
   "outputs": [
    {
     "data": {
      "text/plain": [
       "<Figure size 1152x864 with 0 Axes>"
      ]
     },
     "metadata": {},
     "output_type": "display_data"
    },
    {
     "data": {
      "image/png": "[encoded data removed]",
      "text/plain": [
       "<Figure size 432x288 with 1 Axes>"
      ]
     },
     "metadata": {},
     "output_type": "display_data"
    },
    {
     "name": "stdout",
     "output_type": "stream",
     "text": [
      "hit\n"
     ]
    }
   ],
   "source": [
    "from matplotlib import pyplot as plt\n",
    "%matplotlib inline\n",
    "import numpy as np\n",
    "from math import sin, cos, pi, sqrt;\n",
    "import matplotlib.patches as patches\n",
    "\n",
    "g = 9.8 \n",
    "# координаты броска\n",
    "x0 = 0\n",
    "y0 = 2 \n",
    "# скорость\n",
    "v0 = 16\n",
    "# угол\n",
    "angle_gr = 73\n",
    "# расстояние до стены\n",
    "wall_dist = 8\n",
    "# ширина стены\n",
    "wall_width = 1\n",
    "# высота низа бойницы\n",
    "wall_height = 12 \n",
    "# высота бойницы\n",
    "wall_window_height = 3 \n",
    "# расстояние от стены до замка\n",
    "wall_castle_dist = 3 \n",
    "# высота окна замка\n",
    "castle_height = 8 \n",
    "# ширина стены замка(лишь для построения рисунка)\n",
    "castle_width = 1\n",
    "# высота окна\n",
    "castle_window_height = 2 \n",
    "# вычисление координаты х\n",
    "def x_coord(t, x0, v0_x):\n",
    "    return x0 + v0_x * t\n",
    "# вычисление координаты у\n",
    "def y_coord(t, y0, v0_y):\n",
    "    return y0 + v0_y * t - g * t ** 2 / 2\n",
    "# вычисление момента времени, когда будет точке с координатой х# вычисление момента времени, когда будет точке с координатой у(2 значения: до и после максимума)\n",
    "def t_x(x, x0, v0_x):\n",
    "    return (x - x0) / v0_x\n",
    "# вычисление момента времени, когда будет точке с координатой у(2 значения: до и после максимума)\n",
    "def t_y(y, y0, v0_y):\n",
    "    return (v0_y - sqrt(v0_y**2 + 2 * g * (y0 - y))) / g, (v0_y + sqrt(v0_y**2 + 2 * g * (y0 - y))) / g\n",
    "# вычисление момента времени, когда будет в верхней точке траектории\n",
    "def t_y_max(v0_y):\n",
    "    return v0_y / g\n",
    "\n",
    "def stone(x0, y0, v0, angle_gr, \n",
    "         wall_dist, wall_width, wall_height, wall_window_height, \n",
    "         wall_castle_dist, castle_height, castle_width, castle_window_height ):\n",
    "    # вычисление нужных координат стен\n",
    "    wall_end = wall_dist + wall_width\n",
    "    castle_dist = wall_end + wall_castle_dist\n",
    "    castle_end = castle_dist + castle_width\n",
    "    wall_win_top = wall_height + wall_window_height\n",
    "    castle_win_top = castle_height + castle_window_height\n",
    "    # перевод угла в радианы и нахождение проекций начальной скорости\n",
    "    angle = pi * angle_gr / 180\n",
    "    v0x = v0 * cos(angle)\n",
    "    v0y = v0 * sin(angle)\n",
    "    # координата у при достижении стены\n",
    "    tx = t_x(wall_dist, x0, v0x)\n",
    "    x_in_wall = x_coord(tx, x0, v0x)\n",
    "    y_in_wall = y_coord(tx, y0, v0y)\n",
    "    tx = t_x(wall_end, x0, v0x)\n",
    "    x_out_wall = x_coord(tx, x0, v0x)\n",
    "    y_out_wall = y_coord(tx, y0, v0y)\n",
    "    tx = t_x(castle_dist, x0, v0x)\n",
    "    x_in_castle = x_coord(tx, x0, v0x)\n",
    "    y_in_castle = y_coord(tx, y0, v0y)\n",
    "    tm = t_y_max(v0y)\n",
    "    x_max = x_coord(tm, x0, v0x)\n",
    "    y_max = y_coord(tm, y0, v0y)\n",
    "    #рисование стены и замка\n",
    "    \n",
    "    wall_bottom = patches.Rectangle((wall_dist, 0),\n",
    "                                wall_width, wall_height,\n",
    "                                edgecolor='black', facecolor='black')\n",
    "    wall_top = patches.Rectangle((wall_dist, wall_height+wall_window_height),\n",
    "                             wall_width, wall_height,\n",
    "                             linewidth=3, edgecolor='black', facecolor='black')\n",
    "    castle_bottom = patches.Rectangle((wall_dist+wall_width+wall_castle_dist, 0),\n",
    "                                  castle_width, castle_height,\n",
    "                                  edgecolor='black', facecolor='black')\n",
    "    castle_top = patches.Rectangle((wall_dist+wall_width+wall_castle_dist, castle_height+castle_window_height),\n",
    "                               castle_width, wall_height,\n",
    "                               edgecolor='black', facecolor='black')\n",
    "    fig = plt.figure(figsize=(16, 12))\n",
    "    _, ax = plt.subplots()\n",
    "    ax.add_patch(wall_bottom)\n",
    "    ax.add_patch(wall_top)\n",
    "    ax.add_patch(castle_bottom)\n",
    "    ax.add_patch(castle_top)\n",
    "    #флажок попадания\n",
    "    hit = True\n",
    "    # полетел ниже бойницы\n",
    "    if y_in_wall < wall_height: \n",
    "        ty = t_y(0, y0, v0y)[1]\n",
    "        # не долетел до стены\n",
    "        if x_coord(ty, x0, v0x) < wall_dist:\n",
    "            ts = np.linspace(0, ty, 500)\n",
    "            # долетел, но не попал\n",
    "        else:\n",
    "            ts = np.linspace(0, t_x(wall_dist, x0, v0x), 500)\n",
    "        hit = False\n",
    "         # полетел выше бойницы\n",
    "    elif y_in_wall > wall_win_top: \n",
    "        ts = np.linspace(0, t_x(wall_dist, x0, v0x), 500)\n",
    "        hit = False\n",
    "        # ударился о низ бойницы\n",
    "    elif y_out_wall < wall_height: \n",
    "        ts = np.linspace(0, t_x(wall_dist, x0, v0x), 500)\n",
    "        hit = False\n",
    "        # ударился о верх бойницы\n",
    "    elif y_out_wall > wall_win_top: \n",
    "        ts = np.linspace(0, t_x(wall_dist, x0, v0x), 500)\n",
    "        hit = False\n",
    "        # полетел ниже окна замка\n",
    "    elif y_in_castle < castle_height: \n",
    "        ts = np.linspace(0, t_x(castle_dist, x0, v0x), 500)\n",
    "        hit = False\n",
    "        # полетел выше окна замка\n",
    "    elif y_in_castle > castle_win_top: \n",
    "        ty = t_y(0, y0, v0y)[1]\n",
    "        if x_coord(ty, x0, v0x) < castle_dist:\n",
    "            ts = np.linspace(0, ty, 500)\n",
    "        else:\n",
    "            ts = np.linspace(0, t_x(castle_dist, x0, v0x), 500)\n",
    "        hit = False\n",
    "        # по траектории пролетал бойницу, но задел в ней потолок\n",
    "    elif (y_in_wall > wall_height and y_in_wall < wall_win_top and\n",
    "        y_out_wall > wall_height and y_out_wall < wall_win_top and\n",
    "        x_max > wall_dist and x_max < wall_end and\n",
    "        y_max > wall_win_top):\n",
    "        ts = np.linspace(0, t_x(wall_end, x0, v0x), 500)\n",
    "        hit = False\n",
    "        # попал в окно замка\n",
    "    else:\n",
    "        ts = np.linspace(0, t_x(castle_end, x0, v0x), 500)\n",
    "# ts - интервал времени от броска до попадания куда-либо\n",
    "    # вычисление траектории полета\n",
    "    x_coords = [x_coord(t, x0, v0x) for t in ts]\n",
    "    y_coords = [y_coord(t, y0, v0y) for t in ts]\n",
    "    # построение траектории\n",
    "    ax.plot(x_coords, y_coords, color=(0,0,0))\n",
    "    plt.show()\n",
    "     # попал/не попал\n",
    "    return hit\n",
    "    \n",
    "st = stone(x0, y0, v0, angle_gr, \n",
    "         wall_dist, wall_width, wall_height, wall_window_height, \n",
    "         wall_castle_dist, castle_height, castle_width, castle_window_height)\n",
    "\n",
    "if st:\n",
    "    print(\"hit\")\n",
    "else:\n",
    "    print(\"fail\")"
   ]
  },
  {
   "cell_type": "markdown",
   "metadata": {},
   "source": [
    "Вычисления можно производить, задавая все необходимые параметры вначале и меняя только некоторые части потом для корректировки броска.\n",
    "Само собой, и в последующих блоках можно заново задать все значения и вызвать функцию. \n",
    "Далее примеры:"
   ]
  },
  {
   "cell_type": "code",
   "execution_count": 40,
   "metadata": {},
   "outputs": [
    {
     "data": {
      "text/plain": [
       "<Figure size 1152x864 with 0 Axes>"
      ]
     },
     "metadata": {},
     "output_type": "display_data"
    },
    {
     "data": {
      "image/png": "[encoded data removed]",
      "text/plain": [
       "<Figure size 432x288 with 1 Axes>"
      ]
     },
     "metadata": {},
     "output_type": "display_data"
    },
    {
     "name": "stdout",
     "output_type": "stream",
     "text": [
      "fail\n"
     ]
    }
   ],
   "source": [
    "v0 = 16\n",
    "angle_gr = 63    \n",
    "wall_dist = 8\n",
    "st = stone(x0, y0, v0, angle_gr, \n",
    "         wall_dist, wall_width, wall_height, wall_window_height, \n",
    "         wall_castle_dist, castle_height, castle_width, castle_window_height)\n",
    "\n",
    "if st:\n",
    "    print(\"hit\")\n",
    "else:\n",
    "    print(\"fail\")\n",
    "\n"
   ]
  },
  {
   "cell_type": "code",
   "execution_count": 28,
   "metadata": {},
   "outputs": [
    {
     "data": {
      "text/plain": [
       "<Figure size 1152x864 with 0 Axes>"
      ]
     },
     "metadata": {},
     "output_type": "display_data"
    },
    {
     "data": {
      "image/png": "[encoded data removed]",
      "text/plain": [
       "<Figure size 432x288 with 1 Axes>"
      ]
     },
     "metadata": {},
     "output_type": "display_data"
    },
    {
     "name": "stdout",
     "output_type": "stream",
     "text": [
      "fail\n"
     ]
    }
   ],
   "source": [
    "v0 = 16\n",
    "angle_gr = 83\n",
    "st = stone(x0, y0, v0, angle_gr, \n",
    "         wall_dist, wall_width, wall_height, wall_window_height, \n",
    "         wall_castle_dist, castle_height, castle_width, castle_window_height)\n",
    "\n",
    "if st:\n",
    "    print(\"hit\")\n",
    "else:\n",
    "    print(\"fail\")"
   ]
  },
  {
   "cell_type": "code",
   "execution_count": 29,
   "metadata": {},
   "outputs": [
    {
     "data": {
      "text/plain": [
       "<Figure size 1152x864 with 0 Axes>"
      ]
     },
     "metadata": {},
     "output_type": "display_data"
    },
    {
     "data": {
      "image/png": "[encoded data removed]",
      "text/plain": [
       "<Figure size 432x288 with 1 Axes>"
      ]
     },
     "metadata": {},
     "output_type": "display_data"
    },
    {
     "name": "stdout",
     "output_type": "stream",
     "text": [
      "fail\n"
     ]
    }
   ],
   "source": [
    "v0 = 16\n",
    "angle_gr = 75\n",
    "st = stone(x0, y0, v0, angle_gr, \n",
    "         wall_dist, wall_width, wall_height, wall_window_height, \n",
    "         wall_castle_dist, castle_height, castle_width, castle_window_height)\n",
    "\n",
    "if st:\n",
    "    print(\"hit\")\n",
    "else:\n",
    "    print(\"fail\")"
   ]
  },
  {
   "cell_type": "code",
   "execution_count": 30,
   "metadata": {},
   "outputs": [
    {
     "data": {
      "text/plain": [
       "<Figure size 1152x864 with 0 Axes>"
      ]
     },
     "metadata": {},
     "output_type": "display_data"
    },
    {
     "data": {
      "image/png": "[encoded data removed]",
      "text/plain": [
       "<Figure size 432x288 with 1 Axes>"
      ]
     },
     "metadata": {},
     "output_type": "display_data"
    },
    {
     "name": "stdout",
     "output_type": "stream",
     "text": [
      "fail\n"
     ]
    }
   ],
   "source": [
    "v0 = 20\n",
    "angle_gr = 60\n",
    "st = stone(x0, y0, v0, angle_gr, \n",
    "         wall_dist, wall_width, wall_height, wall_window_height, \n",
    "         wall_castle_dist, castle_height, castle_width, castle_window_height)\n",
    "\n",
    "if st:\n",
    "    print(\"hit\")\n",
    "else:\n",
    "    print(\"fail\")"
   ]
  },
  {
   "cell_type": "markdown",
   "metadata": {},
   "source": [
    "Как видим, первый пример был самым удачным )) Но ничего не мешает нам отодвинуть стену и бросить камень со скоростью пули "
   ]
  },
  {
   "cell_type": "code",
   "execution_count": 60,
   "metadata": {},
   "outputs": [
    {
     "data": {
      "text/plain": [
       "<Figure size 1152x864 with 0 Axes>"
      ]
     },
     "metadata": {},
     "output_type": "display_data"
    },
    {
     "data": {
      "image/png": "[encoded data removed]",
      "text/plain": [
       "<Figure size 432x288 with 1 Axes>"
      ]
     },
     "metadata": {},
     "output_type": "display_data"
    },
    {
     "name": "stdout",
     "output_type": "stream",
     "text": [
      "hit\n"
     ]
    }
   ],
   "source": [
    "v0 = 710\n",
    "angle_gr = 3.8\n",
    "wall_dist = 200\n",
    "wall_height = 12 \n",
    "wall_window_height = 5\n",
    "wall_castle_dist = 10\n",
    "castle_height = 15\n",
    "castle_width = 3\n",
    "castle_window_height = 5\n",
    "\n",
    "st = stone(x0, y0, v0, angle_gr, \n",
    "         wall_dist, wall_width, wall_height, wall_window_height, \n",
    "         wall_castle_dist, castle_height, castle_width, castle_window_height)\n",
    "\n",
    "if st:\n",
    "    print(\"hit\")\n",
    "else:\n",
    "    print(\"fail\")"
   ]
  },
  {
   "cell_type": "markdown",
   "metadata": {},
   "source": [
    "Моделировать подобные события можем бесконечно.\n",
    "Конец."
   ]
  },
  {
   "cell_type": "code",
   "execution_count": null,
   "metadata": {},
   "outputs": [],
   "source": []
  }
 ],
 "metadata": {
  "kernelspec": {
   "display_name": "Python 3",
   "language": "python",
   "name": "python3"
  },
  "language_info": {
   "codemirror_mode": {
    "name": "ipython",
    "version": 3
   },
   "file_extension": ".py",
   "mimetype": "text/x-python",
   "name": "python",
   "nbconvert_exporter": "python",
   "pygments_lexer": "ipython3",
   "version": "3.6.5"
  }
 },
 "nbformat": 4,
 "nbformat_minor": 4
}
